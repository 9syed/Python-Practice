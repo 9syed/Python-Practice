{
 "cells": [
  {
   "cell_type": "code",
   "execution_count": 2,
   "metadata": {},
   "outputs": [
    {
     "name": "stdout",
     "output_type": "stream",
     "text": [
      "Collecting setuptools\n",
      "  Downloading setuptools-50.3.1-py3-none-any.whl (785 kB)\n",
      "\u001b[K     |████████████████████████████████| 785 kB 1.8 MB/s eta 0:00:01\n",
      "\u001b[?25hInstalling collected packages: setuptools\n",
      "  Attempting uninstall: setuptools\n",
      "    Found existing installation: setuptools 49.2.0.post20200714\n",
      "    Uninstalling setuptools-49.2.0.post20200714:\n",
      "      Successfully uninstalled setuptools-49.2.0.post20200714\n",
      "Successfully installed setuptools-50.3.1\n"
     ]
    }
   ],
   "source": [
    "!pip install -U setuptools"
   ]
  },
  {
   "cell_type": "code",
   "execution_count": null,
   "metadata": {},
   "outputs": [
    {
     "name": "stdout",
     "output_type": "stream",
     "text": [
      "[sudo] password for syed: "
     ]
    }
   ],
   "source": [
    "!sudo apt-get install python3-pygame"
   ]
  },
  {
   "cell_type": "code",
   "execution_count": 3,
   "metadata": {},
   "outputs": [
    {
     "name": "stdout",
     "output_type": "stream",
     "text": [
      "Collecting pygame\n",
      "  Using cached pygame-1.9.6.tar.gz (3.2 MB)\n",
      "\u001b[31m    ERROR: Command errored out with exit status 1:\n",
      "     command: /home/syed/anaconda3/bin/python -c 'import sys, setuptools, tokenize; sys.argv[0] = '\"'\"'/tmp/pip-install-to9q0oio/pygame/setup.py'\"'\"'; __file__='\"'\"'/tmp/pip-install-to9q0oio/pygame/setup.py'\"'\"';f=getattr(tokenize, '\"'\"'open'\"'\"', open)(__file__);code=f.read().replace('\"'\"'\\r\\n'\"'\"', '\"'\"'\\n'\"'\"');f.close();exec(compile(code, __file__, '\"'\"'exec'\"'\"'))' egg_info --egg-base /tmp/pip-pip-egg-info-x2nia_a0\n",
      "         cwd: /tmp/pip-install-to9q0oio/pygame/\n",
      "    Complete output (25 lines):\n",
      "    \n",
      "    \n",
      "    WARNING, No \"Setup\" File Exists, Running \"buildconfig/config.py\"\n",
      "    Using UNIX configuration...\n",
      "    \n",
      "    /bin/sh: 1: sdl-config: not found\n",
      "    /bin/sh: 1: sdl-config: not found\n",
      "    /bin/sh: 1: sdl-config: not found\n",
      "    Package freetype2 was not found in the pkg-config search path.\n",
      "    Perhaps you should add the directory containing `freetype2.pc'\n",
      "    to the PKG_CONFIG_PATH environment variable\n",
      "    No package 'freetype2' found\n",
      "    Package freetype2 was not found in the pkg-config search path.\n",
      "    Perhaps you should add the directory containing `freetype2.pc'\n",
      "    to the PKG_CONFIG_PATH environment variable\n",
      "    No package 'freetype2' found\n",
      "    Package freetype2 was not found in the pkg-config search path.\n",
      "    Perhaps you should add the directory containing `freetype2.pc'\n",
      "    to the PKG_CONFIG_PATH environment variable\n",
      "    No package 'freetype2' found\n",
      "    \n",
      "    Hunting dependencies...\n",
      "    WARNING: \"sdl-config\" failed!\n",
      "    WARNING: \"pkg-config freetype2\" failed!\n",
      "    Unable to run \"sdl-config\". Please make sure a development version of SDL is installed.\n",
      "    ----------------------------------------\u001b[0m\n",
      "\u001b[31mERROR: Command errored out with exit status 1: python setup.py egg_info Check the logs for full command output.\u001b[0m\n"
     ]
    }
   ],
   "source": [
    "!pip install pygame"
   ]
  },
  {
   "cell_type": "code",
   "execution_count": null,
   "metadata": {},
   "outputs": [],
   "source": []
  }
 ],
 "metadata": {
  "kernelspec": {
   "display_name": "Python 3",
   "language": "python",
   "name": "python3"
  },
  "language_info": {
   "codemirror_mode": {
    "name": "ipython",
    "version": 3
   },
   "file_extension": ".py",
   "mimetype": "text/x-python",
   "name": "python",
   "nbconvert_exporter": "python",
   "pygments_lexer": "ipython3",
   "version": "3.8.3"
  }
 },
 "nbformat": 4,
 "nbformat_minor": 4
}
