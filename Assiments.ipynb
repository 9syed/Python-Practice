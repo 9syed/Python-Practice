{
 "cells": [
  {
   "cell_type": "code",
   "execution_count": 26,
   "metadata": {
    "collapsed": true
   },
   "outputs": [
    {
     "name": "stdout",
     "output_type": "stream",
     "text": [
      "Enter first number :4\n",
      "Enter second number :7\n",
      "The highest number is 7\n"
     ]
    }
   ],
   "source": [
    "# write a program to print maximum of two numbers\n",
    "\n",
    "first_no=int(input(\"Enter first number :\"))\n",
    "second_no=int(input(\"Enter second number :\"))\n",
    "if (first_no > second_no):\n",
    "    print(\"The highest number is\", first_no)\n",
    "    \n",
    "else :\n",
    "    print(\"The highest number is\", second_no)"
   ]
  },
  {
   "cell_type": "code",
   "execution_count": 2,
   "metadata": {
    "collapsed": true
   },
   "outputs": [
    {
     "name": "stdout",
     "output_type": "stream",
     "text": [
      "pls enter the limit :10\n",
      "8\n",
      "6\n",
      "4\n",
      "2\n",
      "0\n"
     ]
    }
   ],
   "source": [
    "#Write a program to print all even numbers between 0 and limit where limit is a parameter using while loop\n",
    "\n",
    "limit=int(input(\"pls enter the limit :\"))\n",
    "\n",
    "while limit >= 0 :\n",
    "    limit= limit -1\n",
    "    if (limit % 2 == 0):\n",
    "        print(limit)\n"
   ]
  },
  {
   "cell_type": "code",
   "execution_count": 28,
   "metadata": {
    "collapsed": true
   },
   "outputs": [
    {
     "name": "stdout",
     "output_type": "stream",
     "text": [
      "pls enter the the limit :10\n",
      "0\n",
      "2\n",
      "4\n",
      "6\n",
      "8\n"
     ]
    }
   ],
   "source": [
    "# write a program  to print all even numbers between 0 and limit where limit is a parameter using for loop\n",
    "\n",
    "limit=int(input(\"pls enter the the limit :\"))\n",
    "for i in range(limit):\n",
    "    if (i % 2 == 0):\n",
    "        print(i)"
   ]
  },
  {
   "cell_type": "code",
   "execution_count": 19,
   "metadata": {
    "collapsed": true
   },
   "outputs": [
    {
     "name": "stdout",
     "output_type": "stream",
     "text": [
      "pls enter the table number :4\n",
      "4 x 0  =  0\n",
      "4 x 1  =  4\n",
      "4 x 2  =  8\n",
      "4 x 3  =  12\n",
      "4 x 4  =  16\n",
      "4 x 5  =  20\n",
      "4 x 6  =  24\n",
      "4 x 7  =  28\n",
      "4 x 8  =  32\n",
      "4 x 9  =  36\n",
      "4 x 10  =  40\n"
     ]
    }
   ],
   "source": [
    "#Write a programm to print any table\n",
    "\n",
    "table=int(input(\"pls enter the table number :\"))\n",
    "for m in range(11):\n",
    "    print(table, 'x', m,' = ',m * table)"
   ]
  },
  {
   "cell_type": "code",
   "execution_count": 17,
   "metadata": {
    "collapsed": true
   },
   "outputs": [
    {
     "name": "stdout",
     "output_type": "stream",
     "text": [
      "pls enter the table number :10\n",
      "10 x 0  =  0\n",
      "10 x 1  =  10\n",
      "10 x 2  =  20\n",
      "10 x 3  =  30\n",
      "10 x 4  =  40\n",
      "10 x 5  =  50\n",
      "10 x 6  =  60\n",
      "10 x 7  =  70\n",
      "10 x 8  =  80\n",
      "10 x 9  =  90\n",
      "10 x 10  =  100\n",
      "*******************************\n",
      "10 x 1  =  10\n",
      "10 x 2  =  20\n",
      "10 x 3  =  30\n",
      "10 x 4  =  40\n",
      "10 x 5  =  50\n",
      "10 x 6  =  60\n",
      "10 x 7  =  70\n",
      "10 x 8  =  80\n",
      "10 x 9  =  90\n",
      "10 x 10  =  100\n",
      "#####################################\n",
      "10 x 1  =  10\n",
      "10 x 3  =  30\n",
      "10 x 5  =  50\n",
      "10 x 7  =  70\n",
      "10 x 9  =  90\n",
      "%%%%%%%%%%%%%%%%%%%%%%%%%%%%%%%%%%%\n"
     ]
    }
   ],
   "source": [
    "#Write a programm to print any table\n",
    "\n",
    "\n",
    "#range has minimum one arguments, start\n",
    "table=int(input(\"pls enter the table number :\"))\n",
    "for m in range(11):\n",
    "    print(table, 'x', m,' = ',m * table)\n",
    "\n",
    "print('*******************************')   \n",
    "\n",
    "\n",
    "# range has two arguments, start and stop\n",
    "for m in range(1,11):\n",
    "    print(table, 'x', m,' = ',m * table)\n",
    "print('#####################################')\n",
    "\n",
    "\n",
    "# range has maximum three arguments, start, stop and step\n",
    "for m in range(1,11,2):\n",
    "    print(table, 'x', m,' = ',m * table)\n",
    "    \n",
    "print('%%%%%%%%%%%%%%%%%%%%%%%%%%%%%%%%%%%')\n",
    "    \n",
    "\n"
   ]
  },
  {
   "cell_type": "code",
   "execution_count": 18,
   "metadata": {
    "collapsed": true
   },
   "outputs": [
    {
     "name": "stdout",
     "output_type": "stream",
     "text": [
      "1 x 1  =  1\n",
      "1 x 2  =  2\n",
      "1 x 3  =  3\n",
      "1 x 4  =  4\n",
      "1 x 5  =  5\n",
      "1 x 6  =  6\n",
      "1 x 7  =  7\n",
      "1 x 8  =  8\n",
      "1 x 9  =  9\n",
      "1 x 10  =  10\n",
      "\n",
      "____________\n",
      "2 x 1  =  2\n",
      "2 x 2  =  4\n",
      "2 x 3  =  6\n",
      "2 x 4  =  8\n",
      "2 x 5  =  10\n",
      "2 x 6  =  12\n",
      "2 x 7  =  14\n",
      "2 x 8  =  16\n",
      "2 x 9  =  18\n",
      "2 x 10  =  20\n",
      "\n",
      "____________\n",
      "3 x 1  =  3\n",
      "3 x 2  =  6\n",
      "3 x 3  =  9\n",
      "3 x 4  =  12\n",
      "3 x 5  =  15\n",
      "3 x 6  =  18\n",
      "3 x 7  =  21\n",
      "3 x 8  =  24\n",
      "3 x 9  =  27\n",
      "3 x 10  =  30\n",
      "\n",
      "____________\n",
      "4 x 1  =  4\n",
      "4 x 2  =  8\n",
      "4 x 3  =  12\n",
      "4 x 4  =  16\n",
      "4 x 5  =  20\n",
      "4 x 6  =  24\n",
      "4 x 7  =  28\n",
      "4 x 8  =  32\n",
      "4 x 9  =  36\n",
      "4 x 10  =  40\n",
      "\n",
      "____________\n",
      "5 x 1  =  5\n",
      "5 x 2  =  10\n",
      "5 x 3  =  15\n",
      "5 x 4  =  20\n",
      "5 x 5  =  25\n",
      "5 x 6  =  30\n",
      "5 x 7  =  35\n",
      "5 x 8  =  40\n",
      "5 x 9  =  45\n",
      "5 x 10  =  50\n",
      "\n",
      "____________\n",
      "6 x 1  =  6\n",
      "6 x 2  =  12\n",
      "6 x 3  =  18\n",
      "6 x 4  =  24\n",
      "6 x 5  =  30\n",
      "6 x 6  =  36\n",
      "6 x 7  =  42\n",
      "6 x 8  =  48\n",
      "6 x 9  =  54\n",
      "6 x 10  =  60\n",
      "\n",
      "____________\n",
      "7 x 1  =  7\n",
      "7 x 2  =  14\n",
      "7 x 3  =  21\n",
      "7 x 4  =  28\n",
      "7 x 5  =  35\n",
      "7 x 6  =  42\n",
      "7 x 7  =  49\n",
      "7 x 8  =  56\n",
      "7 x 9  =  63\n",
      "7 x 10  =  70\n",
      "\n",
      "____________\n",
      "8 x 1  =  8\n",
      "8 x 2  =  16\n",
      "8 x 3  =  24\n",
      "8 x 4  =  32\n",
      "8 x 5  =  40\n",
      "8 x 6  =  48\n",
      "8 x 7  =  56\n",
      "8 x 8  =  64\n",
      "8 x 9  =  72\n",
      "8 x 10  =  80\n",
      "\n",
      "____________\n",
      "9 x 1  =  9\n",
      "9 x 2  =  18\n",
      "9 x 3  =  27\n",
      "9 x 4  =  36\n",
      "9 x 5  =  45\n",
      "9 x 6  =  54\n",
      "9 x 7  =  63\n",
      "9 x 8  =  72\n",
      "9 x 9  =  81\n",
      "9 x 10  =  90\n",
      "\n",
      "____________\n",
      "10 x 1  =  10\n",
      "10 x 2  =  20\n",
      "10 x 3  =  30\n",
      "10 x 4  =  40\n",
      "10 x 5  =  50\n",
      "10 x 6  =  60\n",
      "10 x 7  =  70\n",
      "10 x 8  =  80\n",
      "10 x 9  =  90\n",
      "10 x 10  =  100\n",
      "\n",
      "____________\n"
     ]
    }
   ],
   "source": [
    "# write a program to print tables\n",
    "\n",
    "for y in range(1, 11):\n",
    "    for x in range(1,11):\n",
    "        print(y, 'x', x,' = ',x * y)\n",
    "    print('\\n____________')"
   ]
  },
  {
   "cell_type": "code",
   "execution_count": 15,
   "metadata": {
    "collapsed": true
   },
   "outputs": [
    {
     "name": "stdout",
     "output_type": "stream",
     "text": [
      "1001\n",
      "1008\n",
      "1022\n",
      "1029\n",
      "1036\n",
      "1043\n",
      "1057\n",
      "1064\n",
      "1071\n",
      "1078\n",
      "1092\n",
      "1099\n",
      "1106\n",
      "1113\n",
      "1127\n",
      "1134\n",
      "1141\n",
      "1148\n",
      "1162\n",
      "1169\n",
      "1176\n",
      "1183\n",
      "1197\n",
      "1204\n",
      "1211\n",
      "1218\n",
      "1232\n",
      "1239\n",
      "1246\n",
      "1253\n",
      "1267\n",
      "1274\n",
      "1281\n",
      "1288\n",
      "1302\n",
      "1309\n",
      "1316\n",
      "1323\n",
      "1337\n",
      "1344\n",
      "1351\n",
      "1358\n",
      "1372\n",
      "1379\n",
      "1386\n",
      "1393\n",
      "1407\n",
      "1414\n",
      "1421\n",
      "1428\n",
      "1442\n",
      "1449\n",
      "1456\n",
      "1463\n",
      "1477\n",
      "1484\n",
      "1491\n",
      "1498\n",
      "1512\n",
      "1519\n",
      "1526\n",
      "1533\n",
      "1547\n",
      "1554\n",
      "1561\n",
      "1568\n",
      "1582\n",
      "1589\n",
      "1596\n",
      "1603\n",
      "1617\n",
      "1624\n",
      "1631\n",
      "1638\n",
      "1652\n",
      "1659\n",
      "1666\n",
      "1673\n",
      "1687\n",
      "1694\n",
      "1701\n",
      "1708\n",
      "1722\n",
      "1729\n",
      "1736\n",
      "1743\n",
      "1757\n",
      "1764\n",
      "1771\n",
      "1778\n",
      "1792\n",
      "1799\n",
      "1806\n",
      "1813\n",
      "1827\n",
      "1834\n",
      "1841\n",
      "1848\n",
      "1862\n",
      "1869\n",
      "1876\n",
      "1883\n",
      "1897\n",
      "1904\n",
      "1911\n",
      "1918\n",
      "1932\n",
      "1939\n",
      "1946\n",
      "1953\n",
      "1967\n",
      "1974\n",
      "1981\n",
      "1988\n"
     ]
    }
   ],
   "source": [
    "# Write a program which will find all numbers which are divisible by 7 but not a multiple of 5, between 1000 and 2000\n",
    "\n",
    "for n in range(1000, 2000):\n",
    "    if (n % 7 ==0 and n % 5 != 0):\n",
    "       print(n)"
   ]
  },
  {
   "cell_type": "code",
   "execution_count": 16,
   "metadata": {
    "collapsed": true
   },
   "outputs": [
    {
     "name": "stdout",
     "output_type": "stream",
     "text": [
      "pls enter start number :1000\n",
      "pls enterr the end number :2000\n",
      "1001\n",
      "1008\n",
      "1022\n",
      "1029\n",
      "1036\n",
      "1043\n",
      "1057\n",
      "1064\n",
      "1071\n",
      "1078\n",
      "1092\n",
      "1099\n",
      "1106\n",
      "1113\n",
      "1127\n",
      "1134\n",
      "1141\n",
      "1148\n",
      "1162\n",
      "1169\n",
      "1176\n",
      "1183\n",
      "1197\n",
      "1204\n",
      "1211\n",
      "1218\n",
      "1232\n",
      "1239\n",
      "1246\n",
      "1253\n",
      "1267\n",
      "1274\n",
      "1281\n",
      "1288\n",
      "1302\n",
      "1309\n",
      "1316\n",
      "1323\n",
      "1337\n",
      "1344\n",
      "1351\n",
      "1358\n",
      "1372\n",
      "1379\n",
      "1386\n",
      "1393\n",
      "1407\n",
      "1414\n",
      "1421\n",
      "1428\n",
      "1442\n",
      "1449\n",
      "1456\n",
      "1463\n",
      "1477\n",
      "1484\n",
      "1491\n",
      "1498\n",
      "1512\n",
      "1519\n",
      "1526\n",
      "1533\n",
      "1547\n",
      "1554\n",
      "1561\n",
      "1568\n",
      "1582\n",
      "1589\n",
      "1596\n",
      "1603\n",
      "1617\n",
      "1624\n",
      "1631\n",
      "1638\n",
      "1652\n",
      "1659\n",
      "1666\n",
      "1673\n",
      "1687\n",
      "1694\n",
      "1701\n",
      "1708\n",
      "1722\n",
      "1729\n",
      "1736\n",
      "1743\n",
      "1757\n",
      "1764\n",
      "1771\n",
      "1778\n",
      "1792\n",
      "1799\n",
      "1806\n",
      "1813\n",
      "1827\n",
      "1834\n",
      "1841\n",
      "1848\n",
      "1862\n",
      "1869\n",
      "1876\n",
      "1883\n",
      "1897\n",
      "1904\n",
      "1911\n",
      "1918\n",
      "1932\n",
      "1939\n",
      "1946\n",
      "1953\n",
      "1967\n",
      "1974\n",
      "1981\n",
      "1988\n"
     ]
    }
   ],
   "source": [
    "# Write a program which will find all numbers which are divisible by 7 but not a multiple of 5\n",
    "\n",
    "start_number=int(input(\"pls enter start number :\"))\n",
    "end_number=int(input(\"pls enterr the end number :\"))\n",
    "for n in range(start_number, end_number):\n",
    "    if (n % 7 ==0 and n % 5 != 0):\n",
    "       print(n)"
   ]
  },
  {
   "cell_type": "code",
   "execution_count": 5,
   "metadata": {
    "collapsed": true
   },
   "outputs": [
    {
     "name": "stdout",
     "output_type": "stream",
     "text": [
      "pls enter the first name :Rahman\n",
      "pls enter the last name :Abdul\n",
      "Abdul Rahman\n"
     ]
    }
   ],
   "source": [
    "# write a program to print the last name at first and first name at last\n",
    "\n",
    "first_name=str(input(\"pls enter the first name :\"))\n",
    "last_name=str(input(\"pls enter the last name :\"))\n",
    "print(last_name, first_name)"
   ]
  },
  {
   "cell_type": "code",
   "execution_count": 6,
   "metadata": {
    "collapsed": true
   },
   "outputs": [
    {
     "name": "stdout",
     "output_type": "stream",
     "text": [
      "pls enter the first number :2\n",
      "pls enter the second :3\n",
      "the sum of 2  and  3  is 5\n"
     ]
    }
   ],
   "source": [
    "# write a program to print the addition\n",
    "\n",
    "x=int(input(\"pls enter the first number :\"))\n",
    "y=int(input(\"pls enter the second :\"))\n",
    "z= x+y\n",
    "print(\"the sum of\",x,\" and \",y,\" is\", z)\n"
   ]
  },
  {
   "cell_type": "code",
   "execution_count": 7,
   "metadata": {
    "collapsed": true
   },
   "outputs": [
    {
     "name": "stdout",
     "output_type": "stream",
     "text": [
      "pls enter the radius of circle :4\n",
      "The area is : 50.285714285714285\n",
      "The perimeter is : 25.142857142857142\n"
     ]
    }
   ],
   "source": [
    "# write a program to find the area of a circle and perimeter of a circle\n",
    "\n",
    "radius=int(input(\"pls enter the radius of circle :\"))\n",
    "area= (22/7) * radius * radius\n",
    "print(\"The area is :\", area)\n",
    "perimeter=2 * (22/7) * radius\n",
    "print(\"The perimeter is :\", perimeter)"
   ]
  },
  {
   "cell_type": "code",
   "execution_count": 6,
   "metadata": {
    "collapsed": true
   },
   "outputs": [
    {
     "name": "stdout",
     "output_type": "stream",
     "text": [
      "pls enter the height of equilateral triangle :3\n",
      "pls enter the side of equilateral triangle :3\n",
      "The area is : 4.5\n",
      "The perimeter is : 9\n"
     ]
    }
   ],
   "source": [
    "# write a program to find the area of a equilateral triangle and perimeter of a equilateral triangle\n",
    "\n",
    "height=int(input(\"pls enter the height of equilateral triangle :\"))\n",
    "side=int(input(\"pls enter the side of equilateral triangle :\"))\n",
    "area= (1/2) * height * side\n",
    "print(\"The area is :\", area)\n",
    "perimeter= 3 * height\n",
    "print(\"The perimeter is :\", perimeter)"
   ]
  },
  {
   "cell_type": "code",
   "execution_count": 5,
   "metadata": {
    "collapsed": true
   },
   "outputs": [
    {
     "name": "stdout",
     "output_type": "stream",
     "text": [
      "pls enter the length of rectangle :3\n",
      "pls enter the breadth of rectangle :3\n",
      "the area is : 9\n",
      "The perimeter is : 12\n"
     ]
    }
   ],
   "source": [
    "# write a program to find the area of a rectangle and perimeter of a rectangel\n",
    "\n",
    "length=int(input(\"pls enter the length of rectangle :\"))\n",
    "breadth=int(input(\"pls enter the breadth of rectangle :\"))\n",
    "area= (length * breadth)\n",
    "print(\"the area is :\", area)\n",
    "perimeter= 2 * (length + breadth)\n",
    "print(\"The perimeter is :\", perimeter) "
   ]
  },
  {
   "cell_type": "code",
   "execution_count": 4,
   "metadata": {
    "collapsed": true
   },
   "outputs": [
    {
     "name": "stdout",
     "output_type": "stream",
     "text": [
      "pls enter the side of square :3\n",
      "the area is : 9\n",
      "the perimeter is : 12\n"
     ]
    }
   ],
   "source": [
    "# write a program to find the area of a square and perimeter of a square\n",
    "\n",
    "side=int(input(\"pls enter the side of square :\"))\n",
    "area= side * side\n",
    "print(\"the area is :\", area)\n",
    "perimeter= 4 * side\n",
    "print(\"the perimeter is :\", perimeter)"
   ]
  },
  {
   "cell_type": "code",
   "execution_count": 3,
   "metadata": {
    "collapsed": true
   },
   "outputs": [
    {
     "name": "stdout",
     "output_type": "stream",
     "text": [
      "pls enter the radius of semi-circle :4\n",
      "The area is : 25.142857142857142\n",
      "The perimeter is : 20.57142857142857\n"
     ]
    }
   ],
   "source": [
    "# write a programm to find the area of a semi-circle and perimeter of a semi-circle\n",
    "\n",
    "radius=int(input(\"pls enter the radius of semi-circle :\"))\n",
    "area= (1/2) * (22/7) * radius * radius\n",
    "print(\"The area is :\", area)\n",
    "perimeter= (22/7) * radius + 2 * radius\n",
    "print(\"The perimeter is :\", perimeter)"
   ]
  },
  {
   "cell_type": "code",
   "execution_count": 1,
   "metadata": {
    "collapsed": true
   },
   "outputs": [
    {
     "name": "stdout",
     "output_type": "stream",
     "text": [
      "pls enter the first side of the isosceles triangle :3\n",
      "pls enter the second side isosceles triangle :3\n",
      "the area of isosceles triangle is : 4.5\n",
      "the perimeter of isosceles triangle is : 9\n"
     ]
    }
   ],
   "source": [
    "# write a program to find the area of a isosceles triangle and perimeter of a isosceles triangle\n",
    "\n",
    "first_side=int(input(\"pls enter the first side of the isosceles triangle :\"))\n",
    "second_side=int(input(\"pls enter the second side isosceles triangle :\"))\n",
    "area= (1/2) * first_side * first_side\n",
    "print(\"the area of isosceles triangle is :\", area)\n",
    "perimeter= 2 * first_side + second_side\n",
    "print(\"the perimeter of isosceles triangle is :\", perimeter)"
   ]
  },
  {
   "cell_type": "code",
   "execution_count": 8,
   "metadata": {
    "collapsed": true
   },
   "outputs": [
    {
     "name": "stdout",
     "output_type": "stream",
     "text": [
      "pls enter the first side of triangle :6\n",
      "pls enter the second side of triangle :1\n",
      "pls enter the height of the triangle :4\n",
      "the area of triangle is : 11\n",
      "the perimeter of triangle is : 2.0\n"
     ]
    }
   ],
   "source": [
    "# write a program to find the area of a triangle and perimeter of a triangle\n",
    "\n",
    "first_side=int(input(\"pls enter the first side of triangle :\"))\n",
    "second_side=int(input(\"pls enter the second side of triangle :\"))\n",
    "height=int(input(\"pls enter the height of the triangle :\"))\n",
    "area= first_side + second_side + height\n",
    "print(\"the area of triangle is :\", area)\n",
    "perimeter= (1/2) * second_side * height\n",
    "print(\"the perimeter of triangle is :\", perimeter)"
   ]
  },
  {
   "cell_type": "code",
   "execution_count": 9,
   "metadata": {
    "collapsed": true
   },
   "outputs": [
    {
     "name": "stdout",
     "output_type": "stream",
     "text": [
      "pls enter the first side of the parallelogram :4\n",
      "pls enter the second side of the parallelogram :2\n",
      "pls enter the height of the parallelogram :3\n",
      "the area of parallelogram is : 12\n",
      "the perimeter of parallelogram is : 12\n"
     ]
    }
   ],
   "source": [
    "# write a program to find the area of parallelogram and perimeter of parallelogram\n",
    "\n",
    "first_side=int(input(\"pls enter the first side of the parallelogram :\"))\n",
    "second_side=int(input(\"pls enter the second side of the parallelogram :\"))\n",
    "height=int(input(\"pls enter the height of the parallelogram :\"))\n",
    "area= 2 * (first_side + second_side)\n",
    "print(\"the area of parallelogram is :\", area)\n",
    "perimeter= first_side * height\n",
    "print(\"the perimeter of parallelogram is :\", perimeter)"
   ]
  },
  {
   "cell_type": "code",
   "execution_count": 10,
   "metadata": {
    "collapsed": true
   },
   "outputs": [
    {
     "name": "stdout",
     "output_type": "stream",
     "text": [
      "pls enter the side of the rhombus :2\n",
      "pls enter the first diagonal of the rhombus :2\n",
      "pls enter the second diagonal of the rhombus :22\n",
      "the area of rhombus is : 8\n",
      "the perimeter of rhombus is : 22.0\n"
     ]
    }
   ],
   "source": [
    "# write a program to find the area of rhombus and the perimeter of rhombus\n",
    "\n",
    "side=int(input(\"pls enter the side of the rhombus :\"))\n",
    "first_diagonal=int(input(\"pls enter the first diagonal of the rhombus :\"))\n",
    "second_diagonal=int(input(\"pls enter the second diagonal of the rhombus :\"))\n",
    "area= 4 * side\n",
    "print(\"the area of rhombus is :\", area)\n",
    "perimeter= 1/2 * first_diagonal * second_diagonal\n",
    "print(\"the perimeter of rhombus is :\", perimeter)"
   ]
  },
  {
   "cell_type": "code",
   "execution_count": 6,
   "metadata": {
    "collapsed": true
   },
   "outputs": [
    {
     "name": "stdout",
     "output_type": "stream",
     "text": [
      "pls enter the side of the cube :2\n",
      "the surface area of a cube is : 24\n",
      "the volume of a cube is : 8\n"
     ]
    }
   ],
   "source": [
    "# write a program to find the surface area of a cube and volume of a cube\n",
    "\n",
    "side=int(input(\"pls enter the side of the cube :\"))\n",
    "surface_area = 6 * side * side\n",
    "print(\"the surface area of a cube is :\", surface_area)\n",
    "volume = side * side * side\n",
    "print(\"the volume of a cube is :\", volume)"
   ]
  },
  {
   "cell_type": "code",
   "execution_count": 13,
   "metadata": {
    "collapsed": true
   },
   "outputs": [
    {
     "name": "stdout",
     "output_type": "stream",
     "text": [
      "pls enter the radius of a cylinder :6\n",
      "pls enter the height of a cylinder :6\n",
      "the surface area of a cylinder is : 452.57142857142856\n",
      "the volume of a cylinder is : 678.8571428571429\n"
     ]
    }
   ],
   "source": [
    "# write a programm to find the surface area of a cylinder and volume of a cylinder\n",
    "\n",
    "radius=int(input(\"pls enter the radius of a cylinder :\"))\n",
    "height=int(input(\"pls enter the height of a cylinder :\"))\n",
    "surface_area= 2 * (22/7) * radius * height + 2 * (22/7) * radius * radius\n",
    "print(\"the surface area of a cylinder is :\", surface_area)\n",
    "volume= (22/7) * radius * radius * height\n",
    "print(\"the volume of a cylinder is :\", volume)"
   ]
  },
  {
   "cell_type": "code",
   "execution_count": 15,
   "metadata": {
    "collapsed": true
   },
   "outputs": [
    {
     "name": "stdout",
     "output_type": "stream",
     "text": [
      "pls enter the radius of a sphere :6\n",
      "the surface area of a sphere is : 452.57142857142856\n",
      "the volume of a sphere : 905.142857142857\n"
     ]
    }
   ],
   "source": [
    "# write a program to find the surface area of a sphere and volume of a sphere\n",
    "\n",
    "radius=int(input(\"pls enter the radius of a sphere :\"))\n",
    "surface_area= 4 * (22/7) * radius * radius\n",
    "print(\"the surface area of a sphere is :\", surface_area)\n",
    "volume=  (4/3) * (22/7) * radius * radius * radius\n",
    "print(\"the volume of a sphere :\", volume)"
   ]
  },
  {
   "cell_type": "code",
   "execution_count": 1,
   "metadata": {
    "collapsed": true
   },
   "outputs": [
    {
     "name": "stdout",
     "output_type": "stream",
     "text": [
      "pls enter the base area :1\n",
      "pls enter the lateral area :1\n",
      "pls enter the height :1\n",
      "the surface area is : 2\n",
      "the volume is : 0.3333333333333333\n"
     ]
    }
   ],
   "source": [
    "# write a program to find the surface area of a pyramid and volume of a pyramid\n",
    "\n",
    "base_area=int(input(\"pls enter the base area :\"))\n",
    "lateral_area=int(input(\"pls enter the lateral area :\"))\n",
    "height=int(input(\"pls enter the height :\"))\n",
    "surface_area= base_area + lateral_area\n",
    "print(\"the surface area of pyramid is :\", surface_area)\n",
    "volume= base_area * height * 1/3\n",
    "print(\"the volume of pyramid is :\", volume)"
   ]
  },
  {
   "cell_type": "code",
   "execution_count": 2,
   "metadata": {
    "collapsed": true
   },
   "outputs": [
    {
     "name": "stdout",
     "output_type": "stream",
     "text": [
      "pls enter the base area :1\n",
      "pls enter the lateral area :1\n",
      "pls enter the height :1\n",
      "the surface area of prism is : 3\n",
      "the volume of prism is 1\n"
     ]
    }
   ],
   "source": [
    "# write a program to find the surface area of prism and volume of a prism\n",
    "\n",
    "base_area=int(input(\"pls enter the base area :\"))\n",
    "lateral_area=int(input(\"pls enter the lateral area :\"))\n",
    "height=int(input(\"pls enter the height :\"))\n",
    "surface_area= 2 * base_area + lateral_area\n",
    "print(\"the surface area of prism is :\", surface_area)\n",
    "volume= base_area * height\n",
    "print(\"the volume of prism is\", volume)"
   ]
  },
  {
   "cell_type": "code",
   "execution_count": 6,
   "metadata": {
    "collapsed": true
   },
   "outputs": [
    {
     "name": "stdout",
     "output_type": "stream",
     "text": [
      "pls enter the area of one side :10\n",
      "pls enter the number of sides :10\n",
      "the surface area of RegularPolyhedron is : 100\n"
     ]
    }
   ],
   "source": [
    "# write a program to find the surface area of a RegularPolyhedron\n",
    "\n",
    "area_of_one_side=int(input(\"pls enter the area of one side :\"))\n",
    "number_of_sides=int(input(\"pls enter the number of sides :\"))\n",
    "surface_area= area_of_one_side * number_of_sides\n",
    "print(\"the surface area of RegularPolyhedron is :\", surface_area)"
   ]
  },
  {
   "cell_type": "code",
   "execution_count": null,
   "metadata": {},
   "outputs": [],
   "source": []
  }
 ],
 "metadata": {
  "kernelspec": {
   "display_name": "Python 3",
   "language": "python",
   "name": "python3"
  },
  "language_info": {
   "codemirror_mode": {
    "name": "ipython",
    "version": 3
   },
   "file_extension": ".py",
   "mimetype": "text/x-python",
   "name": "python",
   "nbconvert_exporter": "python",
   "pygments_lexer": "ipython3",
   "version": "3.7.6"
  }
 },
 "nbformat": 4,
 "nbformat_minor": 4
}
